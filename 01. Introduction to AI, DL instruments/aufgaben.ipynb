{
 "cells": [
  {
   "cell_type": "markdown",
   "metadata": {},
   "source": [
    "### Задание 1\n",
    "\n",
    "Напишите код, который проверяет, является ли переменная x строкой, и если да, то если в строке больше одного слова (слово--последовательность подряд идущих символов без пробелов), то выводит на экран количество слов в этой строке и сами слова в алфавитном порядке"
   ]
  },
  {
   "cell_type": "code",
   "execution_count": 25,
   "metadata": {
    "pycharm": {
     "name": "#%%\n"
    }
   },
   "outputs": [],
   "source": [
    "# your code here\n",
    "def task1(p):\n",
    "    if isinstance(p, str):\n",
    "        temp = p.split()\n",
    "        temp.sort(key=lambda x: x.lower())\n",
    "        print(temp)\n",
    "        if len(temp) > 1:\n",
    "            print(f\"количество слов: {len(temp)}, \\nслова в алфавитном порядке: \\n{temp}\")"
   ]
  },
  {
   "cell_type": "code",
   "execution_count": 26,
   "metadata": {
    "pycharm": {
     "name": "#%%\n"
    }
   },
   "outputs": [
    {
     "name": "stdout",
     "output_type": "stream",
     "text": [
      "['a', 'a', 'a', 'built-in', 'check', 'contains', 'function.', 'if', 'is', 'isinstance', 'string,', 'that', 'the', 'To', 'use', 'value', 'variable']\n",
      "количество слов: 17, \n",
      "слова в алфавитном порядке: \n",
      "['a', 'a', 'a', 'built-in', 'check', 'contains', 'function.', 'if', 'is', 'isinstance', 'string,', 'that', 'the', 'To', 'use', 'value', 'variable']\n"
     ]
    }
   ],
   "source": [
    "# Test 1.1\n",
    "x = 44\n",
    "task1(x)\n",
    "\n",
    "# Test 1.2\n",
    "x = \"To check if a variable contains a value that is a string, use the isinstance built-in function.\"\n",
    "task1(x)\n"
   ]
  },
  {
   "cell_type": "markdown",
   "metadata": {},
   "source": [
    "### Задание 2\n",
    "\n",
    "Напишите код, который все элементы массива x с **нечетными** индексами переставит в обратном порядке.\n",
    "\n",
    "Т.е. если x = [0, 1, 2, 3, 4, 5, 6, 7, 8, 9], то код должен получать [0, 9, 2, 7, 4, 5, 6, 3, 8, 1]"
   ]
  },
  {
   "cell_type": "code",
   "execution_count": null,
   "metadata": {
    "pycharm": {
     "name": "#%%\n"
    }
   },
   "outputs": [],
   "source": [
    "# your code here\n",
    "\n"
   ]
  },
  {
   "cell_type": "markdown",
   "metadata": {},
   "source": [
    "### Задание 3\n",
    "\n",
    "Напишите цикл, который выводит все числа от 0 до 500, делящиеся на 7, если в них есть цифра 8\n",
    "\n",
    "*Подсказка*: переменную типа int можно привести к типу str:\n",
    "```\n",
    "x = 5\n",
    "y = str(x)\n",
    "```"
   ]
  },
  {
   "cell_type": "code",
   "execution_count": null,
   "metadata": {
    "pycharm": {
     "name": "#%%\n"
    }
   },
   "outputs": [],
   "source": [
    "# your code here\n"
   ]
  },
  {
   "cell_type": "markdown",
   "metadata": {},
   "source": [
    "---\n",
    "\n",
    "### Задание 4\n",
    "\n",
    "1. Создайте список `a`, состоящий из каких-то элементов.\n",
    "2. Создайте список `b` такого же размера, как `a`, состоящий из каких-то элементов.\n",
    "3. Выведите **нумерованный список пар** из элементов списков `a` и `b`."
   ]
  },
  {
   "cell_type": "code",
   "execution_count": null,
   "metadata": {
    "pycharm": {
     "name": "#%%\n"
    }
   },
   "outputs": [],
   "source": [
    "# Ваш код здесь\n"
   ]
  },
  {
   "cell_type": "markdown",
   "metadata": {},
   "source": [
    "---\n",
    "\n",
    "### Задание 5\n",
    "Дан массив строк mas. Одной строкой создайте словарь, в котором по ключу строки будет записана пара (кортеж длины 2) (индекс строки в массиве mas, длина строки)"
   ]
  },
  {
   "cell_type": "code",
   "execution_count": null,
   "metadata": {
    "pycharm": {
     "name": "#%%\n"
    }
   },
   "outputs": [],
   "source": [
    "# Ваш код здесь\n"
   ]
  }
 ],
 "metadata": {
  "colab": {
   "collapsed_sections": [
    "qoHHrmtJGwzG",
    "YfhDEhg_GwzM",
    "-tXSqvRRGwzN",
    "Hf0cK9ejGwzd",
    "YFD8l2XuGwzq",
    "Ra7b2HeOzM7C",
    "sGGkrmM0Gwz1",
    "r_y-TEM3Gw0A",
    "knjcsCbVGw0Z",
    "P7kqThRsGw1S",
    "e6LOqPpYGw1T",
    "KgSZ7GuFzM8N",
    "TE6KBa0HzM8P",
    "2mnxxvHxGw0c",
    "04VwiGfkGw3t",
    "25O4dyOezM8l",
    "70QerwaDGw3y",
    "ZPIwoJneGw37",
    "8f3c96Y3Gw4f",
    "i0xyAzGiGw4s",
    "79dYvUBLGw5A",
    "Ka2gG8QizM9L",
    "-kYdwvhLGw5F"
   ],
   "name": "python_basics.ipynb",
   "provenance": [],
   "version": "0.3.2"
  },
  "kernelspec": {
   "display_name": "Python 3",
   "language": "python",
   "name": "python3"
  },
  "language_info": {
   "codemirror_mode": {
    "name": "ipython",
    "version": 3
   },
   "file_extension": ".py",
   "mimetype": "text/x-python",
   "name": "python",
   "nbconvert_exporter": "python",
   "pygments_lexer": "ipython3",
   "version": "3.9.0"
  }
 },
 "nbformat": 4,
 "nbformat_minor": 1
}