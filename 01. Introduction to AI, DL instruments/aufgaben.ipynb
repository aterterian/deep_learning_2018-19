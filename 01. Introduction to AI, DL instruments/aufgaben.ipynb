{
 "cells": [
  {
   "cell_type": "markdown",
   "metadata": {},
   "source": [
    "### Задание 1\n",
    "\n",
    "Напишите код, который проверяет, является ли переменная x строкой, и если да, то если в строке больше одного слова (слово--последовательность подряд идущих символов без пробелов), то выводит на экран количество слов в этой строке и сами слова в алфавитном порядке"
   ]
  },
  {
   "cell_type": "code",
   "execution_count": 1,
   "metadata": {
    "pycharm": {
     "name": "#%%\n"
    }
   },
   "outputs": [],
   "source": [
    "# your code here\n",
    "def task1(p):\n",
    "    if isinstance(p, str):\n",
    "        temp = p.split()\n",
    "        temp.sort(key=lambda i: i.lower())\n",
    "        print(temp)\n",
    "        if len(temp) > 1:\n",
    "            print(f\"количество слов: {len(temp)}, \\nслова в алфавитном порядке: \\n{temp}\")"
   ]
  },
  {
   "cell_type": "code",
   "execution_count": 2,
   "metadata": {
    "pycharm": {
     "name": "#%%\n"
    }
   },
   "outputs": [
    {
     "name": "stdout",
     "output_type": "stream",
     "text": [
      "['a', 'a', 'a', 'built-in', 'check', 'contains', 'function.', 'if', 'is', 'isinstance', 'string,', 'that', 'the', 'To', 'use', 'value', 'variable']\n",
      "количество слов: 17, \n",
      "слова в алфавитном порядке: \n",
      "['a', 'a', 'a', 'built-in', 'check', 'contains', 'function.', 'if', 'is', 'isinstance', 'string,', 'that', 'the', 'To', 'use', 'value', 'variable']\n"
     ]
    }
   ],
   "source": [
    "# Test 1.1\n",
    "x = 44\n",
    "task1(x)\n",
    "\n",
    "# Test 1.2\n",
    "x = \"To check if a variable contains a value that is a string, use the isinstance built-in function.\"\n",
    "task1(x)\n",
    "\n",
    "# Test 1.3\n",
    "task1(\"Ещё восемь лет назад гениальный Сорокин написал притчу про трёх лысых. Один развалил Российскую империю, второй — её преемника СССР, третий его преемницу... Постойте,  как по вашему, Путина же можно считать достаточно лысым для этого?\")"
   ]
  },
  {
   "cell_type": "markdown",
   "metadata": {},
   "source": [
    "### Задание 2\n",
    "\n",
    "Напишите код, который все элементы массива x с **нечетными** индексами переставит в обратном порядке.\n",
    "\n",
    "Т.е. если x = [0, 1, 2, 3, 4, 5, 6, 7, 8, 9], то код должен получать [0, 9, 2, 7, 4, 5, 6, 3, 8, 1]"
   ]
  },
  {
   "cell_type": "code",
   "execution_count": 33,
   "metadata": {
    "pycharm": {
     "name": "#%%\n"
    }
   },
   "outputs": [],
   "source": [
    "# your code here\n",
    "def task2(m):\n",
    "    if isinstance(m, list) and len(m) > 2:\n",
    "        m[1::2] = sorted(m[1::2], reverse=True)\n",
    "    return m"
   ]
  },
  {
   "cell_type": "code",
   "execution_count": 37,
   "metadata": {
    "pycharm": {
     "name": "#%%\n"
    }
   },
   "outputs": [
    {
     "name": "stdout",
     "output_type": "stream",
     "text": [
      "[0, 9, 2, 7, 4, 5, 6, 3, 8, 1, 10]\n"
     ]
    }
   ],
   "source": [
    "# Test 2.1\n",
    "m = list(range(11))\n",
    "print(task2(m))"
   ]
  },
  {
   "cell_type": "markdown",
   "metadata": {},
   "source": [
    "### Задание 3\n",
    "\n",
    "Напишите цикл, который выводит все числа от 0 до 500, делящиеся на 7, если в них есть цифра 8\n",
    "\n",
    "*Подсказка*: переменную типа int можно привести к типу str:\n",
    "```\n",
    "x = 5\n",
    "y = str(x)\n",
    "```"
   ]
  },
  {
   "cell_type": "code",
   "execution_count": 51,
   "metadata": {
    "pycharm": {
     "name": "#%%\n"
    }
   },
   "outputs": [],
   "source": [
    "# your code here\n",
    "def task3(numbers):\n",
    "    num = []\n",
    "    if isinstance(numbers, list):\n",
    "        for n in numbers:\n",
    "            if n%7 == 0 and \"8\" in str(n):\n",
    "                num.append(n)\n",
    "    return num"
   ]
  },
  {
   "cell_type": "code",
   "execution_count": 52,
   "outputs": [
    {
     "name": "stdout",
     "output_type": "stream",
     "text": [
      "[28, 84, 98, 168, 182, 189, 238, 280, 287, 308, 378, 385, 448, 483]\n"
     ]
    }
   ],
   "source": [
    "# Test 3.1\n",
    "numbers = list(range(501))\n",
    "print(task3(numbers))\n"
   ],
   "metadata": {
    "collapsed": false,
    "pycharm": {
     "name": "#%%\n"
    }
   }
  },
  {
   "cell_type": "code",
   "execution_count": 58,
   "outputs": [],
   "source": [
    "def task3a(numbers):\n",
    "    return [n for n in numbers if (n%7 == 0 and \"8\" in str(n))]"
   ],
   "metadata": {
    "collapsed": false,
    "pycharm": {
     "name": "#%%\n"
    }
   }
  },
  {
   "cell_type": "code",
   "execution_count": 59,
   "outputs": [
    {
     "name": "stdout",
     "output_type": "stream",
     "text": [
      "[28, 84, 98, 168, 182, 189, 238, 280, 287, 308, 378, 385, 448, 483]\n"
     ]
    }
   ],
   "source": [
    "#Test 3a.1\n",
    "numbers = list(range(501))\n",
    "print(task3a(numbers))"
   ],
   "metadata": {
    "collapsed": false,
    "pycharm": {
     "name": "#%%\n"
    }
   }
  },
  {
   "cell_type": "code",
   "execution_count": 60,
   "outputs": [
    {
     "name": "stdout",
     "output_type": "stream",
     "text": [
      "[28, 84, 98, 168, 182, 189, 238, 280, 287, 308, 378, 385, 448, 483]\n"
     ]
    }
   ],
   "source": [
    "#Test 3.2\n",
    "numbers = list(range(501))\n",
    "print([n for n in numbers if (n%7 == 0 and \"8\" in str(n))])\n"
   ],
   "metadata": {
    "collapsed": false,
    "pycharm": {
     "name": "#%%\n"
    }
   }
  },
  {
   "cell_type": "markdown",
   "metadata": {},
   "source": [
    "---\n",
    "### Задание 4\n",
    "\n",
    "1. Создайте список `a`, состоящий из каких-то элементов.\n",
    "2. Создайте список `b` такого же размера, как `a`, состоящий из каких-то элементов.\n",
    "3. Выведите **нумерованный список пар** из элементов списков `a` и `b`."
   ]
  },
  {
   "cell_type": "code",
   "execution_count": 68,
   "metadata": {
    "pycharm": {
     "name": "#%%\n"
    }
   },
   "outputs": [],
   "source": [
    "# Ваш код здесь\n",
    "def task4(a, b):\n",
    "    if isinstance(a, list) and isinstance(b, list):\n",
    "        return zip(a, b)"
   ]
  },
  {
   "cell_type": "code",
   "execution_count": 76,
   "outputs": [
    {
     "name": "stdout",
     "output_type": "stream",
     "text": [
      "Test 4.1\n",
      "[0, 1, 2, 3, 4, 5, 6, 7, 8, 9, 10, 11, 12, 13, 14, 15, 16, 17, 18, 19, 20, 21, 22, 23, 24, 25]\n",
      "['a', 'b', 'c', 'd', 'e', 'f', 'g', 'h', 'i', 'j', 'k', 'l', 'm', 'n', 'o', 'p', 'q', 'r', 's', 't', 'u', 'v', 'w', 'x', 'y', 'z']\n",
      "[(0, 'a'), (1, 'b'), (2, 'c'), (3, 'd'), (4, 'e'), (5, 'f'), (6, 'g'), (7, 'h'), (8, 'i'), (9, 'j'), (10, 'k'), (11, 'l'), (12, 'm'), (13, 'n'), (14, 'o'), (15, 'p'), (16, 'q'), (17, 'r'), (18, 's'), (19, 't'), (20, 'u'), (21, 'v'), (22, 'w'), (23, 'x'), (24, 'y'), (25, 'z')]\n",
      "Test 4.2\n",
      "[(0, 'a'), (1, 'b'), (2, 'c'), (3, 'd'), (4, 'e'), (5, 'f'), (6, 'g'), (7, 'h'), (8, 'i'), (9, 'j'), (10, 'k'), (11, 'l'), (12, 'm'), (13, 'n'), (14, 'o'), (15, 'p'), (16, 'q'), (17, 'r'), (18, 's'), (19, 't'), (20, 'u'), (21, 'v'), (22, 'w')]\n"
     ]
    }
   ],
   "source": [
    "# Test 4.1\n",
    "print(\"Test 4.1\")\n",
    "a = list(range(123 - 97))\n",
    "print(a)\n",
    "b = list(map(chr, range(97, 123)))\n",
    "print(b)\n",
    "len(b)\n",
    "\n",
    "list(zip(a, b))\n",
    "print(list(task4(a, b)))\n",
    "\n",
    "# Test 4.2\n",
    "print(\"Test 4.2\")\n",
    "c = list(range(130 - 97))\n",
    "d = list(map(chr, range(97, 120)))\n",
    "print(list(task4(c, d)))"
   ],
   "metadata": {
    "collapsed": false,
    "pycharm": {
     "name": "#%%\n"
    }
   }
  },
  {
   "cell_type": "markdown",
   "metadata": {},
   "source": [
    "---\n",
    "\n",
    "### Задание 5\n",
    "Дан массив строк mas. Одной строкой создайте словарь, в котором по ключу строки будет записана пара (кортеж длины 2) (индекс строки в массиве mas, длина строки)"
   ]
  },
  {
   "cell_type": "code",
   "execution_count": 84,
   "metadata": {
    "pycharm": {
     "name": "#%%\n"
    }
   },
   "outputs": [
    {
     "data": {
      "text/plain": "['a',\n 'bb',\n 'ccc',\n 'dddd',\n 'eeeee',\n 'ffffff',\n 'ggggggg',\n 'hhhhhhhh',\n 'iiiiiiiii',\n 'jjjjjjjjjj',\n 'kkkkkkkkkkk',\n 'llllllllllll',\n 'mmmmmmmmmmmmm',\n 'nnnnnnnnnnnnnn',\n 'ooooooooooooooo',\n 'pppppppppppppppp',\n 'qqqqqqqqqqqqqqqqq',\n 'rrrrrrrrrrrrrrrrrr',\n 'sssssssssssssssssss',\n 'tttttttttttttttttttt',\n 'uuuuuuuuuuuuuuuuuuuuu',\n 'vvvvvvvvvvvvvvvvvvvvvv',\n 'wwwwwwwwwwwwwwwwwwwwwww',\n 'xxxxxxxxxxxxxxxxxxxxxxxx',\n 'yyyyyyyyyyyyyyyyyyyyyyyyy',\n 'zzzzzzzzzzzzzzzzzzzzzzzzzz']"
     },
     "execution_count": 84,
     "metadata": {},
     "output_type": "execute_result"
    }
   ],
   "source": [
    "d = list(map(chr, range(97, 123)))\n",
    "mas = [m*(ind + 1) for ind, m in enumerate(d)]\n",
    "# Ваш код здесь\n",
    "mas\n"
   ]
  },
  {
   "cell_type": "code",
   "execution_count": 90,
   "outputs": [
    {
     "name": "stdout",
     "output_type": "stream",
     "text": [
      "{0: 1, 1: 2, 2: 3, 3: 4, 4: 5, 5: 6, 6: 7, 7: 8, 8: 9, 9: 10, 10: 11, 11: 12, 12: 13, 13: 14, 14: 15, 15: 16, 16: 17, 17: 18, 18: 19, 19: 20, 20: 21, 21: 22, 22: 23, 23: 24, 24: 25, 25: 26}\n"
     ]
    },
    {
     "data": {
      "text/plain": "dict"
     },
     "execution_count": 90,
     "metadata": {},
     "output_type": "execute_result"
    }
   ],
   "source": [
    "task5 = dict([(index, len(value)) for index, value in enumerate(mas)])\n",
    "print(task5)\n",
    "type(task5)"
   ],
   "metadata": {
    "collapsed": false,
    "pycharm": {
     "name": "#%%\n"
    }
   }
  }
 ],
 "metadata": {
  "colab": {
   "collapsed_sections": [
    "qoHHrmtJGwzG",
    "YfhDEhg_GwzM",
    "-tXSqvRRGwzN",
    "Hf0cK9ejGwzd",
    "YFD8l2XuGwzq",
    "Ra7b2HeOzM7C",
    "sGGkrmM0Gwz1",
    "r_y-TEM3Gw0A",
    "knjcsCbVGw0Z",
    "P7kqThRsGw1S",
    "e6LOqPpYGw1T",
    "KgSZ7GuFzM8N",
    "TE6KBa0HzM8P",
    "2mnxxvHxGw0c",
    "04VwiGfkGw3t",
    "25O4dyOezM8l",
    "70QerwaDGw3y",
    "ZPIwoJneGw37",
    "8f3c96Y3Gw4f",
    "i0xyAzGiGw4s",
    "79dYvUBLGw5A",
    "Ka2gG8QizM9L",
    "-kYdwvhLGw5F"
   ],
   "name": "python_basics.ipynb",
   "provenance": [],
   "version": "0.3.2"
  },
  "kernelspec": {
   "display_name": "Python 3",
   "language": "python",
   "name": "python3"
  },
  "language_info": {
   "codemirror_mode": {
    "name": "ipython",
    "version": 3
   },
   "file_extension": ".py",
   "mimetype": "text/x-python",
   "name": "python",
   "nbconvert_exporter": "python",
   "pygments_lexer": "ipython3",
   "version": "3.9.0"
  }
 },
 "nbformat": 4,
 "nbformat_minor": 1
}